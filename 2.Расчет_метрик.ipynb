{
 "cells": [
  {
   "metadata": {
    "ExecuteTime": {
     "end_time": "2024-08-26T12:12:48.937744Z",
     "start_time": "2024-08-26T12:12:47.612408Z"
    }
   },
   "cell_type": "code",
   "source": "import dask.dataframe as dd",
   "id": "6a7a25eb0ad8984a",
   "outputs": [],
   "execution_count": 1
  },
  {
   "metadata": {
    "ExecuteTime": {
     "end_time": "2024-08-26T12:12:48.946423Z",
     "start_time": "2024-08-26T12:12:48.942736Z"
    }
   },
   "cell_type": "code",
   "source": "file_path = \"C:/Users/almas/output_file.csv\"",
   "id": "fbc609b7716288d9",
   "outputs": [],
   "execution_count": 2
  },
  {
   "metadata": {
    "ExecuteTime": {
     "end_time": "2024-08-26T12:12:49.041071Z",
     "start_time": "2024-08-26T12:12:49.023789Z"
    }
   },
   "cell_type": "code",
   "source": "ddf = dd.read_csv(file_path)",
   "id": "b2c7a1d33dee748a",
   "outputs": [],
   "execution_count": 3
  },
  {
   "metadata": {
    "ExecuteTime": {
     "end_time": "2024-08-26T12:12:49.065296Z",
     "start_time": "2024-08-26T12:12:49.058823Z"
    }
   },
   "cell_type": "code",
   "source": "ddf['Timestamp'] = dd.to_datetime(ddf['Timestamp'])",
   "id": "32d1b160931bc322",
   "outputs": [],
   "execution_count": 4
  },
  {
   "metadata": {
    "ExecuteTime": {
     "end_time": "2024-08-26T12:12:49.086929Z",
     "start_time": "2024-08-26T12:12:49.081797Z"
    }
   },
   "cell_type": "code",
   "source": "ddf['Hour'] = ddf['Timestamp'].dt.hour",
   "id": "f234a08034cd4c7e",
   "outputs": [],
   "execution_count": 5
  },
  {
   "metadata": {
    "ExecuteTime": {
     "end_time": "2024-08-26T12:12:49.120879Z",
     "start_time": "2024-08-26T12:12:49.104668Z"
    }
   },
   "cell_type": "code",
   "source": [
    "# 4. Выполнение агрегации\n",
    "aggregation_result = ddf.groupby('Hour').agg(\n",
    "    unique_categories=('Category', 'nunique'),   #1 Количество уникальных строк в 'Category'\n",
    "    mean_value=('Value', 'mean'),                #2 Среднее значение для 'Value'\n",
    "    median_value=('Value', 'median')             #3 Медиана для 'Value'\n",
    ")"
   ],
   "id": "cd65037fc881016e",
   "outputs": [],
   "execution_count": 6
  },
  {
   "metadata": {
    "ExecuteTime": {
     "end_time": "2024-08-26T12:15:19.313549Z",
     "start_time": "2024-08-26T12:12:49.145287Z"
    }
   },
   "cell_type": "code",
   "source": "result = aggregation_result.compute()",
   "id": "f0a2f577cbe701df",
   "outputs": [],
   "execution_count": 7
  },
  {
   "metadata": {
    "ExecuteTime": {
     "end_time": "2024-08-26T12:15:19.361225Z",
     "start_time": "2024-08-26T12:15:19.349181Z"
    }
   },
   "cell_type": "code",
   "source": "result.to_csv('C:/Users/almas/agg_output_file.csv', index=False)",
   "id": "afb127acf62c94eb",
   "outputs": [],
   "execution_count": 8
  },
  {
   "metadata": {
    "ExecuteTime": {
     "end_time": "2024-08-26T12:15:19.392970Z",
     "start_time": "2024-08-26T12:15:19.390198Z"
    }
   },
   "cell_type": "code",
   "source": [
    "# SQL запрос для агрегации по часу в MySQL\n",
    "#SELECT \n",
    "#    HOUR(Timestamp) AS Hour,\n",
    "#    COUNT(DISTINCT Category) AS unique_categories,\n",
    "#    AVG(Value) AS mean_value,\n",
    "#    SUBSTRING_INDEX(GROUP_CONCAT(Value ORDER BY Value), ',', FLOOR(COUNT(Value) / 2) + 1) AS median_value\n",
    "#FROM \n",
    "#    table_name\n",
    "#WHERE Timestamp IS NOT NULL\n",
    "#GROUP BY Hour\n",
    "#HAVING Hour IS NOT NULL\n",
    "#ORDER BY Hour;"
   ],
   "id": "8324b572e43c8de6",
   "outputs": [],
   "execution_count": 9
  }
 ],
 "metadata": {
  "kernelspec": {
   "display_name": "Python 3 (ipykernel)",
   "language": "python",
   "name": "python3"
  },
  "language_info": {
   "codemirror_mode": {
    "name": "ipython",
    "version": 3
   },
   "file_extension": ".py",
   "mimetype": "text/x-python",
   "name": "python",
   "nbconvert_exporter": "python",
   "pygments_lexer": "ipython3",
   "version": "3.12.5"
  }
 },
 "nbformat": 4,
 "nbformat_minor": 5
}
