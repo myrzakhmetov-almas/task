{
 "cells": [
  {
   "metadata": {
    "ExecuteTime": {
     "end_time": "2024-08-24T07:14:54.912304Z",
     "start_time": "2024-08-24T07:14:54.894229Z"
    }
   },
   "cell_type": "code",
   "source": "import dask.dataframe as dd",
   "id": "5faeaa8ed9956041",
   "outputs": [],
   "execution_count": 3
  },
  {
   "metadata": {},
   "cell_type": "code",
   "outputs": [],
   "execution_count": null,
   "source": "file_path = \"C:/Users/almas/large_dataset_with_duplicates.csv\"",
   "id": "e8ae01fee81916be"
  },
  {
   "metadata": {},
   "cell_type": "code",
   "outputs": [],
   "execution_count": null,
   "source": "ddf = dd.read_csv(file_path)",
   "id": "219d41610588fe35"
  },
  {
   "metadata": {},
   "cell_type": "code",
   "outputs": [],
   "execution_count": null,
   "source": [
    "# 1. Удаление пустых (NA) строк\n",
    "ddf = ddf.dropna() "
   ],
   "id": "da218d9521be79f6"
  },
  {
   "metadata": {},
   "cell_type": "code",
   "outputs": [],
   "execution_count": null,
   "source": [
    "# 2. Удаление дубликатов\n",
    "ddf = ddf.drop_duplicates()"
   ],
   "id": "ea3c62e23bd76e93"
  },
  {
   "metadata": {},
   "cell_type": "code",
   "outputs": [],
   "execution_count": null,
   "source": [
    "# 3. Преобразование строк, в которых нет цифр, в пустые значения\n",
    "ddf['Value'] = ddf['Value'].astype(str)\n",
    "ddf['Value'] = ddf['Value'].where(ddf['Value'].str.contains(r'\\d', na=False), None)"
   ],
   "id": "be35e20b94be3c90"
  },
  {
   "metadata": {},
   "cell_type": "code",
   "outputs": [],
   "execution_count": null,
   "source": [
    "# 4. Удаление записей в промежутке от 1 до 3 часов\n",
    "ddf['Timestamp'] = dd.to_datetime(ddf['Timestamp'], errors='coerce')\n",
    "ddf = ddf[(ddf['Timestamp'].dt.hour < 1) | (ddf['Timestamp'].dt.hour > 3)]"
   ],
   "id": "c74e1df99b674644"
  },
  {
   "metadata": {},
   "cell_type": "code",
   "outputs": [],
   "execution_count": null,
   "source": "final_df = ddf.compute() ",
   "id": "11cc736c67fa2da2"
  },
  {
   "metadata": {},
   "cell_type": "code",
   "outputs": [],
   "execution_count": null,
   "source": "final_df.to_csv('C:/Users/almas/output_file.csv', index=False)",
   "id": "7126ba080bea5bcb"
  },
  {
   "metadata": {},
   "cell_type": "code",
   "outputs": [],
   "execution_count": null,
   "source": "print(\"Обработка завершена успешно!\")",
   "id": "b83c2de77dd45403"
  }
 ],
 "metadata": {
  "kernelspec": {
   "display_name": "Python 3",
   "language": "python",
   "name": "python3"
  },
  "language_info": {
   "codemirror_mode": {
    "name": "ipython",
    "version": 2
   },
   "file_extension": ".py",
   "mimetype": "text/x-python",
   "name": "python",
   "nbconvert_exporter": "python",
   "pygments_lexer": "ipython2",
   "version": "2.7.6"
  }
 },
 "nbformat": 4,
 "nbformat_minor": 5
}
