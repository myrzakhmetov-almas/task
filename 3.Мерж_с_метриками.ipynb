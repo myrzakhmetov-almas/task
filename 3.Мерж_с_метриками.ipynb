{
 "cells": [
  {
   "cell_type": "code",
   "id": "initial_id",
   "metadata": {
    "collapsed": true,
    "ExecuteTime": {
     "end_time": "2024-08-26T12:30:21.302961Z",
     "start_time": "2024-08-26T12:22:03.068848Z"
    }
   },
   "source": [
    "import dask.dataframe as dd\n",
    "import pandas as pd\n",
    "\n",
    "file_path = \"C:/Users/almas/output_file.csv\"\n",
    "\n",
    "ddf = dd.read_csv(file_path)\n",
    "\n",
    "ddf['Timestamp'] = dd.to_datetime(ddf['Timestamp'])\n",
    "\n",
    "ddf['hour'] = ddf['Timestamp'].dt.hour\n",
    "\n",
    "aggregated = ddf.groupby('hour').agg(\n",
    "    unique_categories=('Category', 'nunique'),  # Количество уникальных значений в столбце Category\n",
    "    mean_value=('Value', 'mean'),                # Среднее значение для столбца Value\n",
    "    median_value=('Value', 'median')             # Медиана для столбца Value\n",
    ")\n",
    "\n",
    "aggregated_df = aggregated.compute()\n",
    "\n",
    "all_data = ddf.compute() \n",
    "\n",
    "final_df = all_data.merge(aggregated_df, left_on='hour', right_index=True, how='left')\n",
    "\n",
    "final_df = final_df.drop(columns='hour')\n",
    "\n",
    "output_path = \"C:/Users/almas/aggregated_results.csv\"\n",
    "final_df.to_csv(output_path, index=False)\n",
    "\n",
    "print(\"Обработка и мерж с метриками завершены успешно!\")\n"
   ],
   "outputs": [
    {
     "name": "stdout",
     "output_type": "stream",
     "text": [
      "Обработка и мерж с метриками завершены успешно!\n"
     ]
    }
   ],
   "execution_count": 1
  }
 ],
 "metadata": {
  "kernelspec": {
   "display_name": "Python 3",
   "language": "python",
   "name": "python3"
  },
  "language_info": {
   "codemirror_mode": {
    "name": "ipython",
    "version": 2
   },
   "file_extension": ".py",
   "mimetype": "text/x-python",
   "name": "python",
   "nbconvert_exporter": "python",
   "pygments_lexer": "ipython2",
   "version": "2.7.6"
  }
 },
 "nbformat": 4,
 "nbformat_minor": 5
}
